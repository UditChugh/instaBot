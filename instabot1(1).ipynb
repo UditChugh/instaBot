{
  "nbformat": 4,
  "nbformat_minor": 0,
  "metadata": {
    "kernelspec": {
      "display_name": "Python 3",
      "language": "python",
      "name": "python3"
    },
    "language_info": {
      "codemirror_mode": {
        "name": "ipython",
        "version": 3
      },
      "file_extension": ".py",
      "mimetype": "text/x-python",
      "name": "python",
      "nbconvert_exporter": "python",
      "pygments_lexer": "ipython3",
      "version": "3.7.3"
    },
    "colab": {
      "name": "instabot1.ipynb",
      "provenance": []
    }
  },
  "cells": [
    {
      "cell_type": "code",
      "metadata": {
        "id": "ysu26TjgfpRT",
        "colab_type": "code",
        "colab": {}
      },
      "source": [
        "from selenium import webdriver\n",
        "import time"
      ],
      "execution_count": 0,
      "outputs": []
    },
    {
      "cell_type": "code",
      "metadata": {
        "id": "KE45XB3efpRh",
        "colab_type": "code",
        "colab": {}
      },
      "source": [
        "driver = webdriver.Chrome(executable_path = 'C:\\webdrivers\\chromedriver')\n",
        "driver"
      ],
      "execution_count": 0,
      "outputs": []
    },
    {
      "cell_type": "code",
      "metadata": {
        "id": "zlWDqBfqfpRt",
        "colab_type": "code",
        "colab": {}
      },
      "source": [
        "driver.get('https://www.instagram.com')\n",
        "driver\n",
        "# "
      ],
      "execution_count": 0,
      "outputs": []
    },
    {
      "cell_type": "markdown",
      "metadata": {
        "id": "PjBJTfzFfpR1",
        "colab_type": "text"
      },
      "source": [
        "# log in"
      ]
    },
    {
      "cell_type": "code",
      "metadata": {
        "id": "r2IKYWLsfpR4",
        "colab_type": "code",
        "colab": {}
      },
      "source": [
        "login_btn = driver.find_element_by_link_text('Log in')\n",
        "login_btn.click()\n",
        "time.sleep(4)\n",
        "username = driver.find_element_by_name('username')\n",
        "password = driver.find_element_by_name('password')\n",
        "#login_btn = driver.find_element_by_link_text('Log in')\n",
        "\n",
        "username.send_keys('myninjabot')\n",
        "password.send_keys('******')## login with your username and password\n",
        "\n",
        "#login_btn.click()"
      ],
      "execution_count": 0,
      "outputs": []
    },
    {
      "cell_type": "code",
      "metadata": {
        "id": "0tTsA7S7fpSA",
        "colab_type": "code",
        "colab": {}
      },
      "source": [
        "username.submit()"
      ],
      "execution_count": 0,
      "outputs": []
    },
    {
      "cell_type": "code",
      "metadata": {
        "id": "9eYZNg0jgD4u",
        "colab_type": "code",
        "colab": {}
      },
      "source": [
        "## important Note some of the things might not work beacuse in the orignal webiste the class name or ,id or tag is changed so youll have to inspect element !!"
      ],
      "execution_count": 0,
      "outputs": []
    },
    {
      "cell_type": "code",
      "metadata": {
        "id": "vkvQm117fpSH",
        "colab_type": "code",
        "colab": {}
      },
      "source": [
        "def home():\n",
        "    home = driver.find_element_by_xpath('//div[contains(@class,\"oJZym\")]/a/div/span')\n",
        "    home.click()"
      ],
      "execution_count": 0,
      "outputs": []
    },
    {
      "cell_type": "code",
      "metadata": {
        "id": "hbuHYIAUfpSN",
        "colab_type": "code",
        "colab": {}
      },
      "source": [
        "home()"
      ],
      "execution_count": 0,
      "outputs": []
    },
    {
      "cell_type": "markdown",
      "metadata": {
        "id": "mksPbBU6fpST",
        "colab_type": "text"
      },
      "source": [
        "## search profile"
      ]
    },
    {
      "cell_type": "code",
      "metadata": {
        "id": "dswBwsVkfpSU",
        "colab_type": "code",
        "colab": {}
      },
      "source": [
        "def search_prof(str2):\n",
        "    home()\n",
        "    search = driver.find_element_by_xpath('//div[contains(@class,\"LWmhU _0aCwM\")]/input')\n",
        "    search.send_keys(str2)\n",
        "    time.sleep(3)\n",
        "\n",
        "    search_btn = driver.find_element_by_class_name('z556c')\n",
        "    search_btn.click()"
      ],
      "execution_count": 0,
      "outputs": []
    },
    {
      "cell_type": "code",
      "metadata": {
        "id": "Z-lE4v_9fpSd",
        "colab_type": "code",
        "colab": {}
      },
      "source": [
        "def find_food_names(str2):\n",
        "    \n",
        "    time.sleep(2)\n",
        "    search = driver.find_element_by_xpath('//div[contains(@class,\"LWmhU _0aCwM\")]/input')\n",
        "    search.send_keys(str2)\n",
        "    time.sleep(4)\n",
        "    \n",
        "    results = driver.find_elements_by_class_name('Ap253')\n",
        "    \n",
        "    food_search_results=[]\n",
        "    \n",
        "    for i in results[2:]:\n",
        "        mystr =i.get_attribute('innerHTML')\n",
        "        if mystr[0]== '#':\n",
        "            continue\n",
        "        food_search_results.append(mystr)\n",
        "    \n",
        "    for i in food_search_results:\n",
        "        print(i)"
      ],
      "execution_count": 0,
      "outputs": []
    },
    {
      "cell_type": "code",
      "metadata": {
        "id": "Y4_MmQEZfpSj",
        "colab_type": "code",
        "colab": {},
        "outputId": "de05a8aa-35d2-468d-f014-79317d162bed"
      },
      "source": [
        "find_food_names('food')"
      ],
      "execution_count": 0,
      "outputs": [
        {
          "output_type": "stream",
          "text": [
            "momfoodie\n",
            "foodcloud.in\n",
            "dillifoodguide\n",
            "foodnspoons.mani\n",
            "foodtrails_hyderabad\n",
            "italianfoodandstyle\n",
            "food\n",
            "foodveda\n",
            "foodieediva\n",
            "moetraineats\n",
            "sahil_beer_foodie\n",
            "foodieetraveller_sakshi\n",
            "foodserishta\n",
            "thefoodiewandrer\n",
            "foodinrealife\n",
            "foodbaaz\n",
            "jacksfoodshack\n",
            "foodiepanti\n",
            "eatwith_ishani\n",
            "foodie_amit\n",
            "foodreuels\n",
            "dillikatadka\n",
            "foodjurno\n",
            "_foodpaths_\n",
            "foodbitesbysanju\n",
            "sims.food.diary\n",
            "afoodtrip\n",
            "rosesfood\n",
            "indi_foodelicious\n",
            "foodelic1ous\n",
            "foodtrail_india\n",
            "leicesterfood\n",
            "foodieebites\n",
            "my_foodravel\n",
            "food_belly11\n",
            "vineefoodkorner\n",
            "_foodonaplate_\n",
            "foodfatafat\n",
            "thefoodtrucktravel\n",
            "foodiesparsh\n",
            "prepro_foodspo\n",
            "foodopodia\n",
            "foodiliciousmoments\n",
            "foodgastic_amdavadi\n",
            "peachytales\n",
            "_food4belly_\n",
            "thebigfoodieschronicle\n",
            "gourmet_gulati\n",
            "worldfoodindia\n",
            "f.a.t.t.m.e\n",
            "foodslovefoodslife\n",
            "mysterymunching\n",
            "foodinmyplate\n",
            "foodie_teena_bold_beautiful\n",
            "foodysoul\n",
            "dance_and_letgo\n",
            "alotlike_food\n",
            "earthacooks\n",
            "food_and_makeup_lover\n",
            "craving_soul_for_food\n",
            "wanderer_foodie\n",
            "foodie_fantasies1\n",
            "namakswaadanusaaar\n",
            "foodiehubtv\n",
            "i_food_u\n",
            "foodyprachi\n",
            "foodiefiction1\n",
            "foodiedarling\n",
            "food_trail\n",
            "mitalhungrymig\n",
            "my_fooddiary09\n",
            "delhi_food_guide\n",
            "foodie_gabs\n",
            "foodgramdelhi\n",
            "the_foodie_couple\n",
            "food_cousins\n",
            "gratefultummyla\n",
            "thefoodsojourn\n",
            "fit__food_\n",
            "foodiemeetsworld\n",
            "dubaifoodpicks\n",
            "foodfragrances\n",
            "food_affair\n",
            "palateofdelhi\n",
            "fodies_\n",
            "delhifoodtruckfestival\n",
            "foodsutra03\n",
            "foodieguddi\n",
            "foodienotesmiami\n",
            "foodgasmdiaries\n",
            "selina_food_life\n",
            "jfb50\n",
            "wanderlust_foodiie\n",
            "heyitsdelhi\n",
            "food.whiskyholic\n",
            "foodiesoul_\n",
            "picts.0f.food\n",
            "foodguy580\n"
          ],
          "name": "stdout"
        }
      ]
    },
    {
      "cell_type": "markdown",
      "metadata": {
        "id": "qzithCAifpSt",
        "colab_type": "text"
      },
      "source": [
        "## searching and opening profile"
      ]
    },
    {
      "cell_type": "code",
      "metadata": {
        "id": "bfNgWbxnfpSv",
        "colab_type": "code",
        "colab": {}
      },
      "source": [
        "search_prof('sodelhi')"
      ],
      "execution_count": 0,
      "outputs": []
    },
    {
      "cell_type": "code",
      "metadata": {
        "id": "rgcbWtfMfpS0",
        "colab_type": "code",
        "colab": {}
      },
      "source": [
        "follow_btn = driver.find_element_by_xpath('//span[contains(@class,\"vBF20 _1OSdk\")]/button')\n",
        "#follow_btn.click()\n",
        "is_following = follow_btn.get_attribute('innerHTML') =='Following'\n",
        "is_following"
      ],
      "execution_count": 0,
      "outputs": []
    },
    {
      "cell_type": "code",
      "metadata": {
        "id": "PDmnhPa1fpS5",
        "colab_type": "code",
        "colab": {}
      },
      "source": [
        "follow_btn.click()"
      ],
      "execution_count": 0,
      "outputs": []
    },
    {
      "cell_type": "code",
      "metadata": {
        "id": "HfzacNGYfpS-",
        "colab_type": "code",
        "colab": {}
      },
      "source": [
        "#mt3GC\n",
        "unfollow_btn = driver.find_element_by_xpath('//div[contains(@class,\"mt3GC\")]')\n",
        "unfollow_btn.click()"
      ],
      "execution_count": 0,
      "outputs": []
    },
    {
      "cell_type": "code",
      "metadata": {
        "id": "Ocy0u6tafpTD",
        "colab_type": "code",
        "colab": {}
      },
      "source": [
        "def follow_profile(str1):\n",
        "    search_prof(str1)\n",
        "    time.sleep(3)\n",
        "    follow_btn = driver.find_element_by_xpath('//span[contains(@class,\"vBF20 _1OSdk\")]/button')\n",
        "    is_following = follow_btn.get_attribute('innerHTML') =='Following'\n",
        "    #print(is_following)\n",
        "    if not(is_following):\n",
        "        time.sleep(4)\n",
        "\n",
        "        follow_btn.click()\n",
        "        \n",
        "        \n",
        "    else:\n",
        "        print('already following')\n",
        "    "
      ],
      "execution_count": 0,
      "outputs": []
    },
    {
      "cell_type": "code",
      "metadata": {
        "id": "JDXtcFC1fpTL",
        "colab_type": "code",
        "colab": {}
      },
      "source": [
        "follow_profile('sodelhi')"
      ],
      "execution_count": 0,
      "outputs": []
    },
    {
      "cell_type": "code",
      "metadata": {
        "id": "AFblvZ8kfpTR",
        "colab_type": "code",
        "colab": {}
      },
      "source": [
        "def unfollow_profile(str1):\n",
        "    search_prof(str1)\n",
        "    time.sleep(3)\n",
        "    follow_btn = driver.find_element_by_xpath('//span[contains(@class,\"vBF20 _1OSdk\")]/button')\n",
        "    is_following = follow_btn.get_attribute('innerHTML') =='Following'\n",
        "    #print(is_following)\n",
        "    if (is_following):\n",
        "        \n",
        "\n",
        "        follow_btn.click()\n",
        "        time.sleep(4)\n",
        "        unfollow_btn = driver.find_element_by_xpath('//div[contains(@class,\"mt3GC\")]')\n",
        "        unfollow_btn.click()\n",
        "    else:\n",
        "        print(' already not following this account')"
      ],
      "execution_count": 0,
      "outputs": []
    },
    {
      "cell_type": "code",
      "metadata": {
        "id": "Ya6r1oTmfpTU",
        "colab_type": "code",
        "colab": {}
      },
      "source": [
        "unfollow_profile('sodelhi')"
      ],
      "execution_count": 0,
      "outputs": []
    },
    {
      "cell_type": "markdown",
      "metadata": {
        "id": "9ZO9-pRufpTa",
        "colab_type": "text"
      },
      "source": [
        "# like 30 post"
      ]
    },
    {
      "cell_type": "code",
      "metadata": {
        "id": "nN0uss9nfpTa",
        "colab_type": "code",
        "colab": {}
      },
      "source": [
        "def like_posts(string,n):\n",
        "    search_prof(string)\n",
        "    time.sleep(3)\n",
        "    \n",
        "    posts = driver.find_elements_by_class_name('_9AhH0')\n",
        "    \n",
        "    \n",
        "    for i in posts[:n]:\n",
        "        i.click()\n",
        "        time.sleep(2)\n",
        "        \n",
        "        like_btn = driver.find_element_by_xpath('//span[contains(@class,\"fr66n\")]/button/span')\n",
        "        \n",
        "        \n",
        "        is_liked = like_btn.get_attribute('aria-label') == 'Unlike'\n",
        "        \n",
        "        if (is_liked):\n",
        "            print('post already liked')\n",
        "            close_btn =  driver.find_element_by_class_name('ckWGn')\n",
        "            close_btn.click()\n",
        "            continue\n",
        "        like_btn.click()    \n",
        "        close_btn =  driver.find_element_by_class_name('ckWGn')\n",
        "        close_btn.click()"
      ],
      "execution_count": 0,
      "outputs": []
    },
    {
      "cell_type": "code",
      "metadata": {
        "id": "Ovu9pdM3fpTn",
        "colab_type": "code",
        "colab": {},
        "outputId": "2807af44-1339-4fa5-ff58-0a437d366509"
      },
      "source": [
        "like_posts('dilsefoodie',30)"
      ],
      "execution_count": 0,
      "outputs": [
        {
          "output_type": "stream",
          "text": [
            "post already liked\n"
          ],
          "name": "stdout"
        }
      ]
    },
    {
      "cell_type": "markdown",
      "metadata": {
        "id": "J_3Jm1OtfpTt",
        "colab_type": "text"
      },
      "source": [
        "# unlike 30 posts"
      ]
    },
    {
      "cell_type": "code",
      "metadata": {
        "id": "b6pnpIZMfpTv",
        "colab_type": "code",
        "colab": {}
      },
      "source": [
        "def unlike_posts(string,n):\n",
        "    search_prof(string)\n",
        "    time.sleep(3)\n",
        "    \n",
        "    posts = driver.find_elements_by_class_name('_9AhH0')\n",
        "    \n",
        "    \n",
        "    for i in posts[:n]:\n",
        "        i.click()\n",
        "        time.sleep(2)\n",
        "        \n",
        "        like_btn = driver.find_element_by_xpath('//span[contains(@class,\"fr66n\")]/button/span')\n",
        "        \n",
        "        \n",
        "        is_liked = like_btn.get_attribute('aria-label') == 'Unlike'\n",
        "        \n",
        "        if not(is_liked):\n",
        "            print('post already unliked')\n",
        "            close_btn =  driver.find_element_by_class_name('ckWGn')\n",
        "            close_btn.click()\n",
        "            continue\n",
        "        \n",
        "        like_btn.click()\n",
        "        close_btn =  driver.find_element_by_class_name('ckWGn')\n",
        "        close_btn.click()"
      ],
      "execution_count": 0,
      "outputs": []
    },
    {
      "cell_type": "code",
      "metadata": {
        "id": "E-i2WeUefpT1",
        "colab_type": "code",
        "colab": {}
      },
      "source": [
        "unlike_posts('dilsefoodie',30)"
      ],
      "execution_count": 0,
      "outputs": []
    },
    {
      "cell_type": "markdown",
      "metadata": {
        "id": "4nwJN1wgfpT4",
        "colab_type": "text"
      },
      "source": [
        "# see story of coding ninjas"
      ]
    },
    {
      "cell_type": "code",
      "metadata": {
        "id": "VPBhE66ffpT5",
        "colab_type": "code",
        "colab": {}
      },
      "source": [
        "def check_story():\n",
        "    search_prof('coding.ninjas')\n",
        "    prof_btn =driver.find_element_by_xpath('//span[contains(@class,\"_2dbep \")]/img')\n",
        "    prof_btn.click()"
      ],
      "execution_count": 0,
      "outputs": []
    },
    {
      "cell_type": "code",
      "metadata": {
        "id": "UUSsplPnfpT8",
        "colab_type": "code",
        "colab": {}
      },
      "source": [
        "check_story()"
      ],
      "execution_count": 0,
      "outputs": []
    },
    {
      "cell_type": "markdown",
      "metadata": {
        "id": "3imIpMCffpUA",
        "colab_type": "text"
      },
      "source": [
        "# 500 followers of foodtalkindia"
      ]
    },
    {
      "cell_type": "code",
      "metadata": {
        "id": "Mzd2U4CffpUA",
        "colab_type": "code",
        "colab": {}
      },
      "source": [
        "from selenium.webdriver.common.keys import Keys\n"
      ],
      "execution_count": 0,
      "outputs": []
    },
    {
      "cell_type": "code",
      "metadata": {
        "id": "gkDbbEx-fpUE",
        "colab_type": "code",
        "colab": {}
      },
      "source": [
        "def print_first_n_followers(string,n):\n",
        "    search_prof('foodtalkindia')\n",
        "    time.sleep(3)\n",
        "    \n",
        "    followers_btn = driver.find_element_by_xpath('//li[contains(@class,\"Y8-fY \")]/a ')\n",
        "    followers_btn.click()\n",
        "    time.sleep(2)\n",
        "    \n",
        "    followers  = driver.find_element_by_xpath('//div[contains(@class,\"d7ByH\")]/a')\n",
        "    \n",
        "    followers.send_keys(Keys.END)\n",
        "    time.sleep(4)\n",
        "    \n",
        "    total_followers = driver.find_elements_by_xpath('//div[contains(@class,\"d7ByH\")]/a')\n",
        "    \n",
        "    \n",
        "    while(len(total_followers)<n):\n",
        "        followers.send_keys(Keys.END)\n",
        "        time.sleep(5)\n",
        "        total_followers =driver.find_elements_by_xpath('//div[contains(@class,\"d7ByH\")]/a')\n",
        "    \n",
        "    \n",
        "    \n",
        "    \n",
        "    for i in total_followers:\n",
        "        print(i.text)"
      ],
      "execution_count": 0,
      "outputs": []
    },
    {
      "cell_type": "code",
      "metadata": {
        "id": "ATPzGnPgfpUJ",
        "colab_type": "code",
        "colab": {},
        "outputId": "2cb003c8-0e8d-45e3-ea0e-6ea713388abb"
      },
      "source": [
        "print_first_n_followers('foodtalkindia',500)"
      ],
      "execution_count": 0,
      "outputs": [
        {
          "output_type": "error",
          "ename": "ElementClickInterceptedException",
          "evalue": "Message: element click intercepted: Element <span class=\"glyphsSpriteApp_instagram__outline__24__grey_9 u-__7\" aria-label=\"Instagram\"></span> is not clickable at point (36, 38). Other element would receive the click: <div class=\"RnEpo Yx5HN   \" role=\"presentation\">...</div>\n  (Session info: chrome=75.0.3770.142)\n  (Driver info: chromedriver=74.0.3729.6 (255758eccf3d244491b8a1317aa76e1ce10d57e9-refs/branch-heads/3729@{#29}),platform=Windows NT 10.0.17134 x86_64)\n",
          "traceback": [
            "\u001b[1;31m---------------------------------------------------------------------------\u001b[0m",
            "\u001b[1;31mElementClickInterceptedException\u001b[0m          Traceback (most recent call last)",
            "\u001b[1;32m<ipython-input-72-8b5add539b85>\u001b[0m in \u001b[0;36m<module>\u001b[1;34m\u001b[0m\n\u001b[1;32m----> 1\u001b[1;33m \u001b[0mprint_first_n_followers\u001b[0m\u001b[1;33m(\u001b[0m\u001b[1;34m'foodtalkindia'\u001b[0m\u001b[1;33m,\u001b[0m\u001b[1;36m500\u001b[0m\u001b[1;33m)\u001b[0m\u001b[1;33m\u001b[0m\u001b[1;33m\u001b[0m\u001b[0m\n\u001b[0m",
            "\u001b[1;32m<ipython-input-69-9cbdf82262d9>\u001b[0m in \u001b[0;36mprint_first_n_followers\u001b[1;34m(string, n)\u001b[0m\n\u001b[0;32m      1\u001b[0m \u001b[1;32mdef\u001b[0m \u001b[0mprint_first_n_followers\u001b[0m\u001b[1;33m(\u001b[0m\u001b[0mstring\u001b[0m\u001b[1;33m,\u001b[0m\u001b[0mn\u001b[0m\u001b[1;33m)\u001b[0m\u001b[1;33m:\u001b[0m\u001b[1;33m\u001b[0m\u001b[1;33m\u001b[0m\u001b[0m\n\u001b[1;32m----> 2\u001b[1;33m     \u001b[0msearch_prof\u001b[0m\u001b[1;33m(\u001b[0m\u001b[1;34m'foodtalkindia'\u001b[0m\u001b[1;33m)\u001b[0m\u001b[1;33m\u001b[0m\u001b[1;33m\u001b[0m\u001b[0m\n\u001b[0m\u001b[0;32m      3\u001b[0m     \u001b[0mtime\u001b[0m\u001b[1;33m.\u001b[0m\u001b[0msleep\u001b[0m\u001b[1;33m(\u001b[0m\u001b[1;36m3\u001b[0m\u001b[1;33m)\u001b[0m\u001b[1;33m\u001b[0m\u001b[1;33m\u001b[0m\u001b[0m\n\u001b[0;32m      4\u001b[0m \u001b[1;33m\u001b[0m\u001b[0m\n\u001b[0;32m      5\u001b[0m     \u001b[0mfollowers_btn\u001b[0m \u001b[1;33m=\u001b[0m \u001b[0mdriver\u001b[0m\u001b[1;33m.\u001b[0m\u001b[0mfind_element_by_xpath\u001b[0m\u001b[1;33m(\u001b[0m\u001b[1;34m'//li[contains(@class,\"Y8-fY \")]/a '\u001b[0m\u001b[1;33m)\u001b[0m\u001b[1;33m\u001b[0m\u001b[1;33m\u001b[0m\u001b[0m\n",
            "\u001b[1;32m<ipython-input-15-fa4ddb792d57>\u001b[0m in \u001b[0;36msearch_prof\u001b[1;34m(str2)\u001b[0m\n\u001b[0;32m      1\u001b[0m \u001b[1;32mdef\u001b[0m \u001b[0msearch_prof\u001b[0m\u001b[1;33m(\u001b[0m\u001b[0mstr2\u001b[0m\u001b[1;33m)\u001b[0m\u001b[1;33m:\u001b[0m\u001b[1;33m\u001b[0m\u001b[1;33m\u001b[0m\u001b[0m\n\u001b[1;32m----> 2\u001b[1;33m     \u001b[0mhome\u001b[0m\u001b[1;33m(\u001b[0m\u001b[1;33m)\u001b[0m\u001b[1;33m\u001b[0m\u001b[1;33m\u001b[0m\u001b[0m\n\u001b[0m\u001b[0;32m      3\u001b[0m     \u001b[0msearch\u001b[0m \u001b[1;33m=\u001b[0m \u001b[0mdriver\u001b[0m\u001b[1;33m.\u001b[0m\u001b[0mfind_element_by_xpath\u001b[0m\u001b[1;33m(\u001b[0m\u001b[1;34m'//div[contains(@class,\"LWmhU _0aCwM\")]/input'\u001b[0m\u001b[1;33m)\u001b[0m\u001b[1;33m\u001b[0m\u001b[1;33m\u001b[0m\u001b[0m\n\u001b[0;32m      4\u001b[0m     \u001b[0msearch\u001b[0m\u001b[1;33m.\u001b[0m\u001b[0msend_keys\u001b[0m\u001b[1;33m(\u001b[0m\u001b[0mstr2\u001b[0m\u001b[1;33m)\u001b[0m\u001b[1;33m\u001b[0m\u001b[1;33m\u001b[0m\u001b[0m\n\u001b[0;32m      5\u001b[0m     \u001b[0mtime\u001b[0m\u001b[1;33m.\u001b[0m\u001b[0msleep\u001b[0m\u001b[1;33m(\u001b[0m\u001b[1;36m3\u001b[0m\u001b[1;33m)\u001b[0m\u001b[1;33m\u001b[0m\u001b[1;33m\u001b[0m\u001b[0m\n",
            "\u001b[1;32m<ipython-input-14-27e2409863b2>\u001b[0m in \u001b[0;36mhome\u001b[1;34m()\u001b[0m\n\u001b[0;32m      1\u001b[0m \u001b[1;32mdef\u001b[0m \u001b[0mhome\u001b[0m\u001b[1;33m(\u001b[0m\u001b[1;33m)\u001b[0m\u001b[1;33m:\u001b[0m\u001b[1;33m\u001b[0m\u001b[1;33m\u001b[0m\u001b[0m\n\u001b[0;32m      2\u001b[0m     \u001b[0mhome\u001b[0m \u001b[1;33m=\u001b[0m \u001b[0mdriver\u001b[0m\u001b[1;33m.\u001b[0m\u001b[0mfind_element_by_xpath\u001b[0m\u001b[1;33m(\u001b[0m\u001b[1;34m'//div[contains(@class,\"oJZym\")]/a/div/span'\u001b[0m\u001b[1;33m)\u001b[0m\u001b[1;33m\u001b[0m\u001b[1;33m\u001b[0m\u001b[0m\n\u001b[1;32m----> 3\u001b[1;33m     \u001b[0mhome\u001b[0m\u001b[1;33m.\u001b[0m\u001b[0mclick\u001b[0m\u001b[1;33m(\u001b[0m\u001b[1;33m)\u001b[0m\u001b[1;33m\u001b[0m\u001b[1;33m\u001b[0m\u001b[0m\n\u001b[0m",
            "\u001b[1;32m~\\Anaconda3\\envs\\myenv\\lib\\site-packages\\selenium\\webdriver\\remote\\webelement.py\u001b[0m in \u001b[0;36mclick\u001b[1;34m(self)\u001b[0m\n\u001b[0;32m     78\u001b[0m     \u001b[1;32mdef\u001b[0m \u001b[0mclick\u001b[0m\u001b[1;33m(\u001b[0m\u001b[0mself\u001b[0m\u001b[1;33m)\u001b[0m\u001b[1;33m:\u001b[0m\u001b[1;33m\u001b[0m\u001b[1;33m\u001b[0m\u001b[0m\n\u001b[0;32m     79\u001b[0m         \u001b[1;34m\"\"\"Clicks the element.\"\"\"\u001b[0m\u001b[1;33m\u001b[0m\u001b[1;33m\u001b[0m\u001b[0m\n\u001b[1;32m---> 80\u001b[1;33m         \u001b[0mself\u001b[0m\u001b[1;33m.\u001b[0m\u001b[0m_execute\u001b[0m\u001b[1;33m(\u001b[0m\u001b[0mCommand\u001b[0m\u001b[1;33m.\u001b[0m\u001b[0mCLICK_ELEMENT\u001b[0m\u001b[1;33m)\u001b[0m\u001b[1;33m\u001b[0m\u001b[1;33m\u001b[0m\u001b[0m\n\u001b[0m\u001b[0;32m     81\u001b[0m \u001b[1;33m\u001b[0m\u001b[0m\n\u001b[0;32m     82\u001b[0m     \u001b[1;32mdef\u001b[0m \u001b[0msubmit\u001b[0m\u001b[1;33m(\u001b[0m\u001b[0mself\u001b[0m\u001b[1;33m)\u001b[0m\u001b[1;33m:\u001b[0m\u001b[1;33m\u001b[0m\u001b[1;33m\u001b[0m\u001b[0m\n",
            "\u001b[1;32m~\\Anaconda3\\envs\\myenv\\lib\\site-packages\\selenium\\webdriver\\remote\\webelement.py\u001b[0m in \u001b[0;36m_execute\u001b[1;34m(self, command, params)\u001b[0m\n\u001b[0;32m    631\u001b[0m             \u001b[0mparams\u001b[0m \u001b[1;33m=\u001b[0m \u001b[1;33m{\u001b[0m\u001b[1;33m}\u001b[0m\u001b[1;33m\u001b[0m\u001b[1;33m\u001b[0m\u001b[0m\n\u001b[0;32m    632\u001b[0m         \u001b[0mparams\u001b[0m\u001b[1;33m[\u001b[0m\u001b[1;34m'id'\u001b[0m\u001b[1;33m]\u001b[0m \u001b[1;33m=\u001b[0m \u001b[0mself\u001b[0m\u001b[1;33m.\u001b[0m\u001b[0m_id\u001b[0m\u001b[1;33m\u001b[0m\u001b[1;33m\u001b[0m\u001b[0m\n\u001b[1;32m--> 633\u001b[1;33m         \u001b[1;32mreturn\u001b[0m \u001b[0mself\u001b[0m\u001b[1;33m.\u001b[0m\u001b[0m_parent\u001b[0m\u001b[1;33m.\u001b[0m\u001b[0mexecute\u001b[0m\u001b[1;33m(\u001b[0m\u001b[0mcommand\u001b[0m\u001b[1;33m,\u001b[0m \u001b[0mparams\u001b[0m\u001b[1;33m)\u001b[0m\u001b[1;33m\u001b[0m\u001b[1;33m\u001b[0m\u001b[0m\n\u001b[0m\u001b[0;32m    634\u001b[0m \u001b[1;33m\u001b[0m\u001b[0m\n\u001b[0;32m    635\u001b[0m     \u001b[1;32mdef\u001b[0m \u001b[0mfind_element\u001b[0m\u001b[1;33m(\u001b[0m\u001b[0mself\u001b[0m\u001b[1;33m,\u001b[0m \u001b[0mby\u001b[0m\u001b[1;33m=\u001b[0m\u001b[0mBy\u001b[0m\u001b[1;33m.\u001b[0m\u001b[0mID\u001b[0m\u001b[1;33m,\u001b[0m \u001b[0mvalue\u001b[0m\u001b[1;33m=\u001b[0m\u001b[1;32mNone\u001b[0m\u001b[1;33m)\u001b[0m\u001b[1;33m:\u001b[0m\u001b[1;33m\u001b[0m\u001b[1;33m\u001b[0m\u001b[0m\n",
            "\u001b[1;32m~\\Anaconda3\\envs\\myenv\\lib\\site-packages\\selenium\\webdriver\\remote\\webdriver.py\u001b[0m in \u001b[0;36mexecute\u001b[1;34m(self, driver_command, params)\u001b[0m\n\u001b[0;32m    319\u001b[0m         \u001b[0mresponse\u001b[0m \u001b[1;33m=\u001b[0m \u001b[0mself\u001b[0m\u001b[1;33m.\u001b[0m\u001b[0mcommand_executor\u001b[0m\u001b[1;33m.\u001b[0m\u001b[0mexecute\u001b[0m\u001b[1;33m(\u001b[0m\u001b[0mdriver_command\u001b[0m\u001b[1;33m,\u001b[0m \u001b[0mparams\u001b[0m\u001b[1;33m)\u001b[0m\u001b[1;33m\u001b[0m\u001b[1;33m\u001b[0m\u001b[0m\n\u001b[0;32m    320\u001b[0m         \u001b[1;32mif\u001b[0m \u001b[0mresponse\u001b[0m\u001b[1;33m:\u001b[0m\u001b[1;33m\u001b[0m\u001b[1;33m\u001b[0m\u001b[0m\n\u001b[1;32m--> 321\u001b[1;33m             \u001b[0mself\u001b[0m\u001b[1;33m.\u001b[0m\u001b[0merror_handler\u001b[0m\u001b[1;33m.\u001b[0m\u001b[0mcheck_response\u001b[0m\u001b[1;33m(\u001b[0m\u001b[0mresponse\u001b[0m\u001b[1;33m)\u001b[0m\u001b[1;33m\u001b[0m\u001b[1;33m\u001b[0m\u001b[0m\n\u001b[0m\u001b[0;32m    322\u001b[0m             response['value'] = self._unwrap_value(\n\u001b[0;32m    323\u001b[0m                 response.get('value', None))\n",
            "\u001b[1;32m~\\Anaconda3\\envs\\myenv\\lib\\site-packages\\selenium\\webdriver\\remote\\errorhandler.py\u001b[0m in \u001b[0;36mcheck_response\u001b[1;34m(self, response)\u001b[0m\n\u001b[0;32m    240\u001b[0m                 \u001b[0malert_text\u001b[0m \u001b[1;33m=\u001b[0m \u001b[0mvalue\u001b[0m\u001b[1;33m[\u001b[0m\u001b[1;34m'alert'\u001b[0m\u001b[1;33m]\u001b[0m\u001b[1;33m.\u001b[0m\u001b[0mget\u001b[0m\u001b[1;33m(\u001b[0m\u001b[1;34m'text'\u001b[0m\u001b[1;33m)\u001b[0m\u001b[1;33m\u001b[0m\u001b[1;33m\u001b[0m\u001b[0m\n\u001b[0;32m    241\u001b[0m             \u001b[1;32mraise\u001b[0m \u001b[0mexception_class\u001b[0m\u001b[1;33m(\u001b[0m\u001b[0mmessage\u001b[0m\u001b[1;33m,\u001b[0m \u001b[0mscreen\u001b[0m\u001b[1;33m,\u001b[0m \u001b[0mstacktrace\u001b[0m\u001b[1;33m,\u001b[0m \u001b[0malert_text\u001b[0m\u001b[1;33m)\u001b[0m\u001b[1;33m\u001b[0m\u001b[1;33m\u001b[0m\u001b[0m\n\u001b[1;32m--> 242\u001b[1;33m         \u001b[1;32mraise\u001b[0m \u001b[0mexception_class\u001b[0m\u001b[1;33m(\u001b[0m\u001b[0mmessage\u001b[0m\u001b[1;33m,\u001b[0m \u001b[0mscreen\u001b[0m\u001b[1;33m,\u001b[0m \u001b[0mstacktrace\u001b[0m\u001b[1;33m)\u001b[0m\u001b[1;33m\u001b[0m\u001b[1;33m\u001b[0m\u001b[0m\n\u001b[0m\u001b[0;32m    243\u001b[0m \u001b[1;33m\u001b[0m\u001b[0m\n\u001b[0;32m    244\u001b[0m     \u001b[1;32mdef\u001b[0m \u001b[0m_value_or_default\u001b[0m\u001b[1;33m(\u001b[0m\u001b[0mself\u001b[0m\u001b[1;33m,\u001b[0m \u001b[0mobj\u001b[0m\u001b[1;33m,\u001b[0m \u001b[0mkey\u001b[0m\u001b[1;33m,\u001b[0m \u001b[0mdefault\u001b[0m\u001b[1;33m)\u001b[0m\u001b[1;33m:\u001b[0m\u001b[1;33m\u001b[0m\u001b[1;33m\u001b[0m\u001b[0m\n",
            "\u001b[1;31mElementClickInterceptedException\u001b[0m: Message: element click intercepted: Element <span class=\"glyphsSpriteApp_instagram__outline__24__grey_9 u-__7\" aria-label=\"Instagram\"></span> is not clickable at point (36, 38). Other element would receive the click: <div class=\"RnEpo Yx5HN   \" role=\"presentation\">...</div>\n  (Session info: chrome=75.0.3770.142)\n  (Driver info: chromedriver=74.0.3729.6 (255758eccf3d244491b8a1317aa76e1ce10d57e9-refs/branch-heads/3729@{#29}),platform=Windows NT 10.0.17134 x86_64)\n"
          ]
        }
      ]
    },
    {
      "cell_type": "code",
      "metadata": {
        "id": "3pGXk6L3fpUT",
        "colab_type": "code",
        "colab": {}
      },
      "source": [
        ""
      ],
      "execution_count": 0,
      "outputs": []
    }
  ]
}